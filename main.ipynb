{
 "cells": [
  {
   "cell_type": "code",
   "execution_count": null,
   "metadata": {},
   "outputs": [],
   "source": [
    "! git clone https://github.com/saeedzou/Augmentation_Analysis.git\n",
    "%cd Augmentation_Analysis\n",
    "# ! git pull"
   ]
  },
  {
   "cell_type": "code",
   "execution_count": null,
   "metadata": {},
   "outputs": [],
   "source": [
    "%%capture\n",
    "! pip install audiomentations\n",
    "# ! pip install audiomentations[extras]\n",
    "! pip install transformers\n",
    "! pip install hezar"
   ]
  },
  {
   "cell_type": "code",
   "execution_count": null,
   "metadata": {},
   "outputs": [],
   "source": [
    "%%bash\n",
    "# gdown 1uy6bovugkGIMw-u2yG-xt0e37-7EOOTv\n",
    "# mkdir -p cvfa\n",
    "# unzip -q cvfa.zip -d cvfa\n",
    "# rm -rf cvfa/*.txt\n",
    "\n",
    "gdown 1d8_kPUaQrAPEuCC8Zey0p9kaeS_ZZ5O9\n",
    "mkdir -p cvfa_100\n",
    "unzip -q cvfa_100.zip -d cvfa_100\n",
    "# rm -rf cvfa/*.txt\n",
    "\n",
    "# gdown 1k4P5os3HeFZkgH5SPReQGAH1jxwIHAFf\n",
    "# mkdir -p cvfa_vc\n",
    "# unzip -q cvfa_vc.zip -d cvfa_vc\n",
    "# cd ./cvfa_vc\n",
    "# rm ./cvfa_*_1.wav ./cvfa_*_2.wav\n",
    "# for file in ./cvfa_*_0.wav; do\n",
    "#     mv \"$file\" \"${file/_0.wav/.wav}\"\n",
    "# done"
   ]
  },
  {
   "cell_type": "code",
   "execution_count": null,
   "metadata": {},
   "outputs": [],
   "source": [
    "%%capture\n",
    "! wget https://www.openslr.org/resources/28/rirs_noises.zip\n",
    "! mkdir -p ./rirs\n",
    "! unzip -q ./rirs_noises.zip -d ./rirs\n",
    "! wget https://github.com/karoldvl/ESC-50/archive/master.zip\n",
    "! unzip -q ./master.zip"
   ]
  },
  {
   "cell_type": "code",
   "execution_count": null,
   "metadata": {},
   "outputs": [],
   "source": [
    "import json\n",
    "\n",
    "with open('configs.json', 'r') as f:\n",
    "  configs = json.load(f)\n",
    "\n",
    "with open('augmentations_config.json', 'r') as f:\n",
    "  aug_configs = json.load(f)['augmentations']"
   ]
  },
  {
   "cell_type": "code",
   "execution_count": null,
   "metadata": {},
   "outputs": [],
   "source": [
    "audio_dir = './cvfa_100'\n",
    "background_noise_dir = './ESC-50-master/audio/'\n",
    "ir_dir = './rirs/RIRS_NOISES/real_rirs_isotropic_noises'\n",
    "\n",
    "configs['audio_directory'] = audio_dir\n",
    "aug_configs['add_background_noise']['sounds_path'] = background_noise_dir\n",
    "aug_configs['apply_impulse_response']['ir_path'] = ir_dir\n",
    "\n",
    "for model in configs['models'].keys():\n",
    "  configs['model'] = model\n",
    "  configs['augmentation_type'] = 'original'\n",
    "  configs['output']['dataframe_path'] = f'{model}_original.csv'\n",
    "  print(configs)\n",
    "  with open('configs.json', 'w') as f:\n",
    "    json.dump(configs, f)\n",
    "  !python latent_analysis.py\n",
    "  for augmentation in aug_configs.keys():\n",
    "    configs['augmentation_type'] = augmentation\n",
    "    configs['output']['dataframe_path'] = f'{model}_{augmentation}.csv'\n",
    "    print(configs)\n",
    "    with open('configs.json', 'w') as f:\n",
    "      json.dump(configs, f)\n",
    "    !python latent_analysis.py "
   ]
  },
  {
   "cell_type": "code",
   "execution_count": null,
   "metadata": {},
   "outputs": [],
   "source": [
    "! python latent_analysis.py"
   ]
  }
 ],
 "metadata": {
  "kernelspec": {
   "display_name": "base",
   "language": "python",
   "name": "python3"
  },
  "language_info": {
   "name": "python",
   "version": "3.10.13"
  }
 },
 "nbformat": 4,
 "nbformat_minor": 2
}
